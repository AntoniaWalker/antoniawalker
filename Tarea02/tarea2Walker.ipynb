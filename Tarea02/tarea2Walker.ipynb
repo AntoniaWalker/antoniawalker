{
  "nbformat": 4,
  "nbformat_minor": 0,
  "metadata": {
    "colab": {
      "provenance": [],
      "toc_visible": true
    },
    "kernelspec": {
      "name": "python3",
      "display_name": "Python 3"
    },
    "language_info": {
      "name": "python"
    }
  },
  "cells": [
    {
      "cell_type": "markdown",
      "source": [
        "Problema 1"
      ],
      "metadata": {
        "id": "mLQ3Rw8GUlAP"
      }
    },
    {
      "cell_type": "code",
      "source": [
        "for x in range(1, 101):\n",
        "        print(x)"
      ],
      "metadata": {
        "colab": {
          "base_uri": "https://localhost:8080/"
        },
        "id": "yp_PeXVxUf7m",
        "outputId": "5cee9348-ed0c-424e-a2dc-dd981233c506"
      },
      "execution_count": 9,
      "outputs": [
        {
          "output_type": "stream",
          "name": "stdout",
          "text": [
            "1\n",
            "2\n",
            "3\n",
            "4\n",
            "5\n",
            "6\n",
            "7\n",
            "8\n",
            "9\n",
            "10\n",
            "11\n",
            "12\n",
            "13\n",
            "14\n",
            "15\n",
            "16\n",
            "17\n",
            "18\n",
            "19\n",
            "20\n",
            "21\n",
            "22\n",
            "23\n",
            "24\n",
            "25\n",
            "26\n",
            "27\n",
            "28\n",
            "29\n",
            "30\n",
            "31\n",
            "32\n",
            "33\n",
            "34\n",
            "35\n",
            "36\n",
            "37\n",
            "38\n",
            "39\n",
            "40\n",
            "41\n",
            "42\n",
            "43\n",
            "44\n",
            "45\n",
            "46\n",
            "47\n",
            "48\n",
            "49\n",
            "50\n",
            "51\n",
            "52\n",
            "53\n",
            "54\n",
            "55\n",
            "56\n",
            "57\n",
            "58\n",
            "59\n",
            "60\n",
            "61\n",
            "62\n",
            "63\n",
            "64\n",
            "65\n",
            "66\n",
            "67\n",
            "68\n",
            "69\n",
            "70\n",
            "71\n",
            "72\n",
            "73\n",
            "74\n",
            "75\n",
            "76\n",
            "77\n",
            "78\n",
            "79\n",
            "80\n",
            "81\n",
            "82\n",
            "83\n",
            "84\n",
            "85\n",
            "86\n",
            "87\n",
            "88\n",
            "89\n",
            "90\n",
            "91\n",
            "92\n",
            "93\n",
            "94\n",
            "95\n",
            "96\n",
            "97\n",
            "98\n",
            "99\n",
            "100\n"
          ]
        }
      ]
    },
    {
      "cell_type": "markdown",
      "source": [
        "Problema 2"
      ],
      "metadata": {
        "id": "wsno7uURUh7M"
      }
    },
    {
      "cell_type": "code",
      "execution_count": 14,
      "metadata": {
        "colab": {
          "base_uri": "https://localhost:8080/"
        },
        "id": "Uh_aiWBoSqL5",
        "outputId": "0c774344-76be-497d-85a1-37bf05ef4a5d"
      },
      "outputs": [
        {
          "output_type": "stream",
          "name": "stdout",
          "text": [
            "3\n",
            "6\n",
            "9\n",
            "12\n",
            "15\n",
            "18\n",
            "21\n",
            "24\n",
            "27\n",
            "30\n",
            "33\n",
            "36\n",
            "39\n",
            "42\n",
            "45\n",
            "48\n",
            "51\n",
            "54\n",
            "57\n",
            "60\n",
            "63\n",
            "66\n",
            "69\n",
            "72\n",
            "75\n",
            "78\n",
            "81\n",
            "84\n",
            "87\n",
            "90\n",
            "93\n",
            "96\n",
            "99\n"
          ]
        }
      ],
      "source": [
        "for i in range(1, 100):\n",
        "    if i % 3 == 0:\n",
        "        print(i)"
      ]
    },
    {
      "cell_type": "markdown",
      "source": [
        "Problema 3\n"
      ],
      "metadata": {
        "id": "MXFe0Z2FVPDW"
      }
    },
    {
      "cell_type": "code",
      "source": [
        "\n",
        "a = float(input(\"Ingresa el primer número: \"))\n",
        "b = float(input(\"Ingresa el segundo número: \"))\n",
        "\n",
        "suma = a + b\n",
        "\n",
        "if suma < 100:\n",
        "    print(\"menor a 100\")\n",
        "elif 100 <= suma < 150:\n",
        "    print(\"mayor a 100\")\n",
        "else:\n",
        "    print(\"mayor a 150\")"
      ],
      "metadata": {
        "colab": {
          "base_uri": "https://localhost:8080/"
        },
        "id": "8JUkrYkMVUFO",
        "outputId": "6fe060f2-e558-41f8-de81-cba781c59ab8"
      },
      "execution_count": 8,
      "outputs": [
        {
          "output_type": "stream",
          "name": "stdout",
          "text": [
            "Ingresa el primer número: 50\n",
            "Ingresa el segundo número: 30\n",
            "menor a 100\n"
          ]
        }
      ]
    },
    {
      "cell_type": "markdown",
      "source": [
        "Problema 4\n"
      ],
      "metadata": {
        "id": "astWglQ0laVX"
      }
    },
    {
      "cell_type": "code",
      "source": [
        "def evaluar_usuario():\n",
        "    edad = int(input(\"¿Cuántos años tienes? \"))\n",
        "    le_gusta_programar = input(\"¿Te gusta la programación? (sí/no): \").strip().lower()\n",
        "    if edad >= 18:\n",
        "        if le_gusta_programar == \"sí\":\n",
        "            print(\"¡Eres mayor de edad y te gusta la programación! ¡Sigue recorriendo el fascinante camino de la informática!.\")\n",
        "        elif le_gusta_programar == \"no\":\n",
        "            print(\"Eres mayor de edad y no te gusta la programación.¡Corre! estás en el ramo equivocado\")\n",
        "        else:\n",
        "            print(\"Respuesta no válida sobre si te gusta la programación.\")\n",
        "    else:\n",
        "        if le_gusta_programar == \"sí\":\n",
        "            print(\"¡Eres menor de edad y te gusta la programación! Sigue estudiando, ¡serás un gran computín!.\")\n",
        "        elif le_gusta_programar == \"no\":\n",
        "            print(\"Eres menor de edad y no te gusta la programación. Explora otras áreas que puedan ser de tu interés\")\n",
        "        else:\n",
        "            print(\"Respuesta no válida sobre si te gusta la programación.\")\n",
        "evaluar_usuario()\n"
      ],
      "metadata": {
        "colab": {
          "base_uri": "https://localhost:8080/"
        },
        "id": "aEI8Xwv4lc56",
        "outputId": "4e1874a9-dead-4765-cd94-c1a9556234ab"
      },
      "execution_count": 17,
      "outputs": [
        {
          "output_type": "stream",
          "name": "stdout",
          "text": [
            "¿Cuántos años tienes? 40\n",
            "¿Te gusta la programación? (sí/no): no\n",
            "Eres mayor de edad y no te gusta la programación.¡Corre! estás en el ramo equivocado\n"
          ]
        }
      ]
    }
  ]
}